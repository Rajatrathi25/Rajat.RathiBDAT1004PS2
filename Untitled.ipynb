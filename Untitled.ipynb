{
 "cells": [
  {
   "cell_type": "markdown",
   "id": "0c33790c",
   "metadata": {},
   "source": [
    "# Problem Set 2 "
   ]
  },
  {
   "cell_type": "markdown",
   "id": "d9216a02",
   "metadata": {},
   "source": [
    "# Question 1"
   ]
  },
  {
   "cell_type": "markdown",
   "id": "161a06ea",
   "metadata": {},
   "source": [
    "\n",
    "Consider the following Python module:\n",
    "a = 0\n",
    "def b():\n",
    " global a\n",
    " a = c(a)\n",
    "def c(a):\n",
    " return a + 2\n",
    "After importing the module into the interpreter, you execute:\n",
    "> b()\n",
    "\n",
    "> b()\n",
    "\n",
    "> b()\n",
    "\n",
    "> a\n",
    "\n",
    "What value is displayed when the last expression (a) is evaluated"
   ]
  },
  {
   "cell_type": "code",
   "execution_count": 10,
   "id": "2b17d0bb",
   "metadata": {},
   "outputs": [],
   "source": [
    "a = 0\n",
    "def b():\n",
    " global a\n",
    " a = c(a)\n",
    "def c(a):\n",
    " return a + 2\n",
    "b()"
   ]
  },
  {
   "cell_type": "code",
   "execution_count": 11,
   "id": "4837a0ae",
   "metadata": {},
   "outputs": [
    {
     "data": {
      "text/plain": [
       "6"
      ]
     },
     "execution_count": 11,
     "metadata": {},
     "output_type": "execute_result"
    }
   ],
   "source": [
    "b()\n",
    "b()\n",
    "a"
   ]
  },
  {
   "cell_type": "markdown",
   "id": "aac6fa67",
   "metadata": {},
   "source": [
    "Reason :- \n",
    "In b() we are calling the c function and storing the return value in a .\n",
    "\n",
    "In function c(a) variable  a is passed and 2 is added to the value .\n",
    "\n",
    "Defining a as global Means it can be accessed by any function.\n",
    " \n",
    "We Have called function b three times . So Inititally value of a was 0 , when b is called for first time:-\n",
    " value of a changes to 0+2=2, as function c is called inside function b and c adds 2 to variable a .\n",
    " \n",
    " Similarly on Second call , a =4(2+2)\n",
    " \n",
    " And on third call , a = 6(4+2)\n",
    " \n",
    " So value of a is changed to 6 "
   ]
  },
  {
   "cell_type": "markdown",
   "id": "a8295887",
   "metadata": {},
   "source": [
    "# Question 2 "
   ]
  },
  {
   "cell_type": "markdown",
   "id": "9bc9aed0",
   "metadata": {},
   "source": [
    "Function fileLength(), given to you, takes the name of a file as input and returns\n",
    "the length of the file:\n",
    "> fileLength('midterm.py')\n",
    "284\n",
    "> fileLength('idterm.py')\n",
    "Traceback (most recent call last):\n",
    "File \"<pyshell#34>\", line 1, in <module>\n",
    "    \n",
    " fileLength('idterm.py')\n",
    "File \"/Users/me/midterm.py\", line 3, in fileLength\n",
    " infile = open(filename)\n",
    "FileNotFoundError: [Errno 2] No such file or directory:\n",
    "'idterm.py'\n",
    "    \n",
    "As shown above, if the file cannot be found by the interpreter or if it cannot be read\n",
    "as a text file, an exception will be raised. Modify function fileLength() so that a\n",
    "friendly message is printed instead:\n",
    "    \n",
    "> fileLength('midterm.py')\n",
    "358\n",
    "\n",
    "> fileLength('idterm.py')\n",
    "File idterm.py not found.\n"
   ]
  },
  {
   "cell_type": "code",
   "execution_count": 17,
   "id": "03d21919",
   "metadata": {},
   "outputs": [
    {
     "name": "stdout",
     "output_type": "stream",
     "text": [
      "Number of characters in text file : 102\n",
      "file rajat.txt not found\n"
     ]
    }
   ],
   "source": [
    "def fileLength(filename):\n",
    "    # I have used try and catch(except) method to deal with exception\n",
    "    \n",
    "    try:\n",
    "        #we have opened the file\n",
    "        infile=open(filename,'r')\n",
    "        #data of the file is read\n",
    "        data = infile.read()\n",
    "\n",
    "\n",
    "        number_of_characters = len(data)\n",
    "\n",
    "        print('Number of characters in text file :', number_of_characters)\n",
    "        \n",
    "    except:\n",
    "        print(\"file \"+filename+\" not found\")\n",
    "        \n",
    "\n",
    "fileLength('bloodtype1.txt')\n",
    "fileLength('rajat.txt')\n"
   ]
  },
  {
   "cell_type": "markdown",
   "id": "b3498e59",
   "metadata": {},
   "source": [
    "# Question 3"
   ]
  },
  {
   "cell_type": "markdown",
   "id": "17db69e6",
   "metadata": {},
   "source": [
    "Write a class named Marsupial that can be used as shown below:\n",
    "> m = Marsupial()\n",
    "\n",
    "> m.put_in_pouch('doll')\n",
    "\n",
    "> m.put_in_pouch('firetruck')\n",
    "\n",
    "> m.put_in_pouch('kitten')\n",
    "> m.pouch_contents()\n",
    "\n",
    "['doll', 'firetruck', 'kitten']\n",
    "\n",
    "Now write a class named Kangaroo as a subclass of Marsupial that inherits all the\n",
    "attributes of Marsupial and also:\n",
    "\n",
    "    a. extends the Marsupial __init__ constructor to take, as input, the\n",
    "coordinates x and y of the Kangaroo object,\n",
    "\n",
    "b. supports method jump that takes number values dx and dy as input and\n",
    "moves the kangaroo by dx units along the x-axis and by dy units along the yaxis, and\n",
    "\n",
    "c. overloads the __str__ operator so it behaves as shown below\n",
    "\n",
    "> k = Kangaroo(0,0)\n",
    "\n",
    "> print(k)\n",
    "\n",
    "I am a Kangaroo located at coordinates (0,0)\n",
    "\n",
    "> k.put_in_pouch('doll')\n",
    "\n",
    "> k.put_in_pouch('firetruck')\n",
    "\n",
    "> k.put_in_pouch('kitten')\n",
    "\n",
    "> k.pouch_contents()\n",
    "['doll', 'firetruck', 'kitten']\n",
    "\n",
    "> k.jump(1,0)\n",
    "\n",
    "> k.jump(1,0)\n",
    "\n",
    "> k.jump(1,0)\n",
    "\n",
    "> print(k)\n",
    "I am a Kangaroo located at coordinates (3,0)"
   ]
  },
  {
   "cell_type": "code",
   "execution_count": 50,
   "id": "65cc3931",
   "metadata": {},
   "outputs": [
    {
     "name": "stdout",
     "output_type": "stream",
     "text": [
      "I am a Kangaroo located at coordinates (0,0)\n",
      "['doll', 'firetruck', 'kitten']\n",
      "I am a Kangaroo located at coordinates (3,0)\n"
     ]
    }
   ],
   "source": [
    "class Marsupial:\n",
    "    \n",
    "    def __init__(self):\n",
    "        #A list is created to store value\n",
    "        self.values = []\n",
    "\n",
    "    #Adding to list\n",
    "    def put_in_pouch(self, item):\n",
    "        self.values.append(item)\n",
    "\n",
    "    #Return List\n",
    "    def pouch_contents(self):\n",
    "        return self.values\n",
    "\n",
    "\n",
    "class Kangaroo(Marsupial):\n",
    "\n",
    "    def __init__(self,x=0,y=0):\n",
    "        Marsupial.__init__(self)\n",
    "        self.x = x\n",
    "        self.y = y\n",
    "\n",
    "    def jump(self,dx,dy):\n",
    "        self.x += dx\n",
    "        self.y += dy\n",
    "\n",
    "    def __str__(self):\n",
    "        return 'I am a Kangaroo located at coordinates ({},{})'.format(self.x,self.y)\n",
    "\n",
    "    \n",
    "k = Kangaroo()\n",
    "print(k)\n",
    "k.put_in_pouch('doll')\n",
    "k.put_in_pouch('firetruck')\n",
    "k.put_in_pouch('kitten')\n",
    "print(k.pouch_contents())\n",
    "k.jump(1,0)\n",
    "k.jump(1,0)\n",
    "k.jump(1,0)\n",
    "print(k)\n"
   ]
  },
  {
   "cell_type": "markdown",
   "id": "5abef9ab",
   "metadata": {},
   "source": [
    "# Question 4"
   ]
  },
  {
   "cell_type": "markdown",
   "id": "8e8a411d",
   "metadata": {},
   "source": [
    "Write function collatz() that takes a positive integer x as input and prints the\n",
    "Collatz sequence starting at x. A Collatz sequence is obtained by repeatedly applying\n",
    "this rule to the previous number x in the sequence:\n",
    "    \n",
    "x = {\n",
    "𝑥/2 𝑖𝑓 𝑥 𝑖𝑠 𝑒𝑣𝑒𝑛\n",
    "\n",
    "3𝑥 + 1 𝑖𝑓 𝑥 𝑖𝑠 𝑜𝑑𝑑 }\n",
    "\n",
    "Your function should stop when the sequence gets to number 1. Your\n",
    "implementation must be recursive, without any loops.\n",
    "\n",
    "> collatz(1)\n",
    "1\n",
    "\n",
    "> collatz(10)\n",
    "10\n",
    "5\n",
    "16\n",
    "8\n",
    "4\n",
    "2\n",
    "1\n"
   ]
  },
  {
   "cell_type": "code",
   "execution_count": 27,
   "id": "71cf646c",
   "metadata": {},
   "outputs": [
    {
     "data": {
      "text/plain": [
       "[10, 5, 16, 8, 4, 2, 1]"
      ]
     },
     "execution_count": 27,
     "metadata": {},
     "output_type": "execute_result"
    }
   ],
   "source": [
    "def collatz(n):\n",
    "    \n",
    "    if(n>0):\n",
    "        #A list to store the values\n",
    "        valueList = [n]\n",
    "        # condition to check if n=1 and, if n=1 then stop the sequence\n",
    "        if n == 1 :\n",
    "            return [1]                 \n",
    "        # Condition to check if number is even\n",
    "        elif n % 2 == 0 :\n",
    "            # Recursion is done on the basis of even condition.\n",
    "            valueList.extend(collatz(n//2)) \n",
    "        # number is odd and hence odd condition is applied    \n",
    "        else:\n",
    "            valueList.extend(collatz(n*3+1))    \n",
    "            \n",
    "        return valueList\n",
    "    \n",
    "    else:\n",
    "        print(\"It is not a postive integer\")\n",
    "       \n",
    "    \n",
    "\n",
    "collatz(10)"
   ]
  },
  {
   "cell_type": "markdown",
   "id": "673e89b4",
   "metadata": {},
   "source": [
    "# Question 5 "
   ]
  },
  {
   "cell_type": "markdown",
   "id": "392aed5d",
   "metadata": {},
   "source": [
    "Write a recursive method binary() that takes a non-negative\n",
    "integer n and prints the binary representation of integer n.\n",
    "> binary(0)\n",
    "0\n",
    "\n",
    "> binary(1)\n",
    "1\n",
    "\n",
    "> binary(3)\n",
    "11\n",
    "\n",
    "> binary(9)\n",
    "1001\n"
   ]
  },
  {
   "cell_type": "code",
   "execution_count": 33,
   "id": "c7fc1867",
   "metadata": {},
   "outputs": [
    {
     "name": "stdout",
     "output_type": "stream",
     "text": [
      "11\n",
      "1001\n"
     ]
    }
   ],
   "source": [
    "# Decimal to binary conversion using recursion\n",
    "def binary (number):\n",
    "    \n",
    "    if number == 0:\n",
    "        return 0\n",
    "    \n",
    "    elif(number>0):\n",
    "        # The logic is that we get modulus of number and then divide the number by 2 and get the modulus in recursive manner.\n",
    "        return (number % 2 + 10 *\n",
    "                binary(int(number // 2)))\n",
    "    else:\n",
    "        print(\"Number is not positive \")\n",
    "        return 0\n",
    "\n",
    "number = 3\n",
    "print(binary(number))\n",
    "\n",
    "number = 9\n",
    "print(binary(number))"
   ]
  },
  {
   "cell_type": "markdown",
   "id": "b732e690",
   "metadata": {},
   "source": [
    "# Question 6\n"
   ]
  },
  {
   "cell_type": "markdown",
   "id": "e4523071",
   "metadata": {},
   "source": [
    "Implement a class named HeadingParser that can be used to parse an HTML\n",
    "document, and retrieve and print all the headings in the document. You should\n",
    "implement your class as a subclass of HTMLParser, defined in Standard Library\n",
    "module html.parser. When fed a string containing HTML code, your class should\n",
    "print the headings, one per line and in the order in which they appear in the\n",
    "document. Each heading should be indented as follows: an h1 heading should have\n",
    "indentation 0, and h2 heading should have indentation 1, etc. Test your\n",
    "implementation using w3c.html."
   ]
  },
  {
   "cell_type": "markdown",
   "id": "4c9bbfbf",
   "metadata": {},
   "source": [
    "> infile = open('w3c.html')\n",
    "\n",
    "> content = infile.read()\n",
    "\n",
    "> infile.close()\n",
    "\n",
    "> hp = HeadingParser()\n",
    "\n",
    "> hp.feed(content)\n",
    "\n",
    "W3C Mission\n",
    "\n",
    "    Principles\n"
   ]
  },
  {
   "cell_type": "code",
   "execution_count": 12,
   "id": "9282a8ec",
   "metadata": {},
   "outputs": [
    {
     "name": "stdout",
     "output_type": "stream",
     "text": [
      "W3C Mission\n",
      " Principles\n"
     ]
    }
   ],
   "source": [
    "from html.parser import HTMLParser\n",
    "#create a subclass of HTMLParser which will overload handle..\n",
    "class HeadingParser(HTMLParser):\n",
    "    hFlag = False\n",
    "    indent = 0\n",
    "    #Triggered when an opening tag for heading is encountered\n",
    "    def handle_starttag(self, tag, attrs):      \n",
    "        if tag == \"h1\":\n",
    "            #Flag for header\n",
    "            self.hFlag = True\n",
    "            #Set indent to 0\n",
    "            self.indent= 0\n",
    "        elif tag == \"h2\":\n",
    "            #Flag for header\n",
    "            self.hFlag = True\n",
    "            #Set indent to 1\n",
    "            self.indent= 1\n",
    "        elif tag == \"h3\":\n",
    "            #Flag for header\n",
    "            self.hFlag = True\n",
    "            #Set indent to 2\n",
    "            self.indent= 2\n",
    "        elif tag == \"h4\":\n",
    "            #Flag for header\n",
    "            self.hFlag = True\n",
    "            #Set indent to 3\n",
    "            self.indent= 3\n",
    "        elif tag == \"h5\":\n",
    "            #Flag for header\n",
    "            self.hFlag = True\n",
    "            #Set indent to 4\n",
    "            self.indent= 4\n",
    "        elif tag == \"h6\":\n",
    "            #Flag for header\n",
    "            self.hFlag = True\n",
    "            #Set indent to 5\n",
    "            self.indent= 5\n",
    "        else:\n",
    "            #ReSet flag\n",
    "            self.hFlag = False\n",
    "            #Set indent to 0\n",
    "            self.indent= 0\n",
    "            \n",
    "    #data is handled on the basis of tag and indent \n",
    "    def handle_data(self, data):                \n",
    "        if self.hFlag: \n",
    "            space = \" \"*self.indent\n",
    "            print(\"%s%s\" % (space,data))\n",
    "    \n",
    "    #Handle end of a tag\n",
    "    def handle_endtag(self, tag):\n",
    "        #ReSet flag\n",
    "        if tag in [\"h1\",\"h2\",\"h3\",\"h4\",\"h5\",\"h6\"]:\n",
    "            self.hFlag = False\n",
    "\n",
    "\n",
    "hP = HeadingParser()\n",
    "#Open the file\n",
    "file = open(\"w3c.html\", \"r\")\n",
    "#Read entirely the file         \n",
    "content = file.read()                  \n",
    "#Close the file \n",
    "file.close()    \n",
    "#Parse the file contents                \n",
    "hP.feed(content)"
   ]
  },
  {
   "cell_type": "markdown",
   "id": "431f03a1",
   "metadata": {},
   "source": [
    "# Question 7 "
   ]
  },
  {
   "cell_type": "markdown",
   "id": "28dc2b00",
   "metadata": {},
   "source": [
    "Implement recursive function webdir() that takes as input: a URL (as a string) and\n",
    "non-negative integers depth and indent. Your function should visit every web\n",
    "page reachable from the starting URL web page in depth clicks or less, and print\n",
    "each web page's URL. As shown below, indentation, specified by indent, should\n",
    "be used to indicate the depth of a URL.\n"
   ]
  },
  {
   "cell_type": "code",
   "execution_count": 27,
   "id": "7a93fc3a",
   "metadata": {},
   "outputs": [
    {
     "name": "stdout",
     "output_type": "stream",
     "text": [
      "http://reed.cs.depaul.edu/lperkovic/test2.html\n",
      "http://reed.cs.depaul.edu/lperkovic/test3.html\n",
      "http://reed.cs.depaul.edu/lperkovic/test4.html\n",
      "http://reed.cs.depaul.edu/lperkovic/test4.html\n"
     ]
    }
   ],
   "source": [
    "from urllib.request import urlopen\n",
    "from urllib.parse import urljoin\n",
    "\n",
    "from html.parser import HTMLParser\n",
    "\n",
    "class Collector(HTMLParser):\n",
    "    'collects hyperlink URLs into a list'\n",
    "\n",
    "    def __init__(self, url):\n",
    "        'initializes parser, the url, and a list'\n",
    "        HTMLParser.__init__(self)\n",
    "        self.url = url\n",
    "        self.links = []\n",
    "\n",
    "    \n",
    "    def handle_starttag(self, tag, attrs):\n",
    "        'collects hyperlink URLs in their absolute format'\n",
    "        if tag == 'a':\n",
    "            for attr in attrs:\n",
    "                if attr[0] == 'href':\n",
    "                    # construct absolute URL\n",
    "                    absolute = urljoin(self.url, attr[1])\n",
    "                    if absolute[:4] == 'http': # collect HTTP URLs\n",
    "                        self.links.append(absolute)\n",
    "                        \n",
    "    def getLinks(self):\n",
    "        'returns hyperlinks URLs in their absolute format'\n",
    "        return self.links\n",
    "\n",
    "\n",
    "def analyze(url):\n",
    "    \n",
    "    #print('\\n\\nVisiting', url)           # for testing\n",
    "\n",
    "    # obtain links in the web page\n",
    "    content = urlopen(url).read().decode()\n",
    "    collector = Collector(url)\n",
    "    collector.feed(content)\n",
    "    urls = collector.getLinks()          # get list of links\n",
    "\n",
    "\n",
    "    # print the http links found in web page\n",
    "    #print('\\n{:45} {:10}'.format('URL', 'link'))\n",
    "    for link in urls:\n",
    "        print(link)\n",
    "\n",
    "    return urls\n",
    "\n",
    "\n",
    "visited = set() # initialize visited to an empty set\n",
    "\n",
    "def crawl2(url):\n",
    "    '''a recursive web crawler that calls analyze()\n",
    "       on every visited web page'''\n",
    "\n",
    "    # add url to set of visited pages\n",
    "    global visited     # warns the programmer \n",
    "    visited.add(url)\n",
    "\n",
    "    # analyze() returns a list of hyperlink URLs in web page url \n",
    "    links = analyze(url)\n",
    "\n",
    "    # recursively continue crawl from every link in links\n",
    "    for link in links:\n",
    "        # follow link only if not visited\n",
    "        if link not in visited:\n",
    "            try:\n",
    "                crawl2(link)\n",
    "            except:\n",
    "                pass\n",
    "            \n",
    "crawl2(\"http://reed.cs.depaul.edu/lperkovic/test1.html\" )"
   ]
  },
  {
   "cell_type": "markdown",
   "id": "86efda63",
   "metadata": {},
   "source": [
    "# Question 8"
   ]
  },
  {
   "cell_type": "markdown",
   "id": "9e3336f4",
   "metadata": {},
   "source": [
    "Write SQL queries on the below database table that return:\n",
    "\n",
    "a) All the temperature data.\n",
    "\n",
    "b) All the cities, but without repetition.\n",
    "\n",
    "c) All the records for India.\n",
    "\n",
    "d) All the Fall records.\n",
    "\n",
    "e) The city, country, and season for which the average rainfall is between 200\n",
    "and 400 millimeters.\n",
    "\n",
    "f) The city and country for which the average Fall temperature is above 20\n",
    "degrees, in increasing temperature order.\n",
    "\n",
    "g) The total annual rainfall for Cairo.\n",
    "\n",
    "h) The total rainfall for each season."
   ]
  },
  {
   "cell_type": "code",
   "execution_count": 1,
   "id": "4809f3b3",
   "metadata": {},
   "outputs": [
    {
     "data": {
      "text/plain": [
       "<sqlite3.Cursor at 0x1491c255dc0>"
      ]
     },
     "execution_count": 1,
     "metadata": {},
     "output_type": "execute_result"
    }
   ],
   "source": [
    "#Table in sql is created and first values are inserted \n",
    "import sqlite3\n",
    "con = sqlite3.connect('temp.db')\n",
    "cur = con.cursor()\n",
    "cur.execute(\"CREATE TABLE Keywords (city text, country text, season text,temperature real, rainfall real)\")\n",
    "cur.execute(\"INSERT INTO Keywords VALUES ('Mumbai','India','Winter',24.8,5.9 )\")"
   ]
  },
  {
   "cell_type": "code",
   "execution_count": 3,
   "id": "a1c744eb",
   "metadata": {},
   "outputs": [
    {
     "data": {
      "text/plain": [
       "<sqlite3.Cursor at 0x1491c255dc0>"
      ]
     },
     "execution_count": 3,
     "metadata": {},
     "output_type": "execute_result"
    }
   ],
   "source": [
    "#Values are inserted in the table\n",
    "cur.execute(\"INSERT INTO Keywords VALUES ('Mumbai','India','Spring',28.4,16.2 )\")\n",
    "cur.execute(\"INSERT INTO Keywords VALUES ('Mumbai','India','Summer',27.9,1549.4 )\")\n",
    "cur.execute(\"INSERT INTO Keywords VALUES ('Mumbai','India','Fall',27.6,346.0 )\")\n",
    "cur.execute(\"INSERT INTO Keywords VALUES ('London','United Kingdom','Winter',4.2,207.7)\")\n",
    "cur.execute(\"INSERT INTO Keywords VALUES ('London','United Kingdom','Spring',8.3,169.6)\")\n",
    "cur.execute(\"INSERT INTO Keywords VALUES ('London','United Kingdom','Summer',15.7,157.0)\")\n",
    "cur.execute(\"INSERT INTO Keywords VALUES ('London','United Kingdom','Fall',10.4,218.5)\")\n",
    "cur.execute(\"INSERT INTO Keywords VALUES ('Cairo','Egypt','Winter',13.6,16.5 )\")\n",
    "cur.execute(\"INSERT INTO Keywords VALUES ('Cairo','Egypt','Spring',20.7,6.5 )\")\n",
    "cur.execute(\"INSERT INTO Keywords VALUES ('Cairo','Egypt','Summer',27.7,0.1 )\")\n",
    "cur.execute(\"INSERT INTO Keywords VALUES ('Cairo','Egypt','Fall',22.2,4.5 )\")"
   ]
  },
  {
   "cell_type": "code",
   "execution_count": 11,
   "id": "4e9ca95d",
   "metadata": {},
   "outputs": [],
   "source": [
    "con.commit()"
   ]
  },
  {
   "cell_type": "code",
   "execution_count": 10,
   "id": "83356636",
   "metadata": {},
   "outputs": [
    {
     "data": {
      "text/plain": [
       "<sqlite3.Cursor at 0x1491c255dc0>"
      ]
     },
     "execution_count": 10,
     "metadata": {},
     "output_type": "execute_result"
    }
   ],
   "source": [
    "cur.execute(\"INSERT INTO Keywords VALUES ('Mumbai','India','Winter',24.8,5.9 )\")\n",
    "# cur.execute(\"DELETE FROM Keywords WHERE city='Mumbai' AND season='Winter'\")"
   ]
  },
  {
   "cell_type": "code",
   "execution_count": 12,
   "id": "8541a06c",
   "metadata": {},
   "outputs": [
    {
     "data": {
      "text/plain": [
       "[('Mumbai', 'India', 'Spring', 28.4, 16.2),\n",
       " ('Mumbai', 'India', 'Summer', 27.9, 1549.4),\n",
       " ('Mumbai', 'India', 'Fall', 27.6, 346.0),\n",
       " ('London', 'United Kingdom', 'Winter', 4.2, 207.7),\n",
       " ('London', 'United Kingdom', 'Spring', 8.3, 169.6),\n",
       " ('London', 'United Kingdom', 'Summer', 15.7, 157.0),\n",
       " ('London', 'United Kingdom', 'Fall', 10.4, 218.5),\n",
       " ('Cairo', 'Egypt', 'Winter', 13.6, 16.5),\n",
       " ('Cairo', 'Egypt', 'Spring', 20.7, 6.5),\n",
       " ('Cairo', 'Egypt', 'Summer', 27.7, 0.1),\n",
       " ('Cairo', 'Egypt', 'Fall', 22.2, 4.5),\n",
       " ('Mumbai', 'India', 'Winter', 24.8, 5.9)]"
      ]
     },
     "execution_count": 12,
     "metadata": {},
     "output_type": "execute_result"
    }
   ],
   "source": [
    "#to check whether data is inserted correclty\n",
    "cur.execute('SELECT * FROM Keywords')\n",
    "cur.fetchall()"
   ]
  },
  {
   "cell_type": "code",
   "execution_count": 13,
   "id": "158a7727",
   "metadata": {},
   "outputs": [
    {
     "data": {
      "text/plain": [
       "[(28.4,),\n",
       " (27.9,),\n",
       " (27.6,),\n",
       " (4.2,),\n",
       " (8.3,),\n",
       " (15.7,),\n",
       " (10.4,),\n",
       " (13.6,),\n",
       " (20.7,),\n",
       " (27.7,),\n",
       " (22.2,),\n",
       " (24.8,)]"
      ]
     },
     "execution_count": 13,
     "metadata": {},
     "output_type": "execute_result"
    }
   ],
   "source": [
    "#a)\n",
    "cur.execute('SELECT temperature FROM Keywords')\n",
    "cur.fetchall()"
   ]
  },
  {
   "cell_type": "code",
   "execution_count": 14,
   "id": "c2a1e1c0",
   "metadata": {},
   "outputs": [
    {
     "data": {
      "text/plain": [
       "[('Mumbai',), ('London',), ('Cairo',)]"
      ]
     },
     "execution_count": 14,
     "metadata": {},
     "output_type": "execute_result"
    }
   ],
   "source": [
    "#b)\n",
    "cur.execute('SELECT Distinct city FROM Keywords')\n",
    "cur.fetchall()"
   ]
  },
  {
   "cell_type": "code",
   "execution_count": 15,
   "id": "633423a5",
   "metadata": {},
   "outputs": [
    {
     "data": {
      "text/plain": [
       "[('Mumbai', 'India', 'Spring', 28.4, 16.2),\n",
       " ('Mumbai', 'India', 'Summer', 27.9, 1549.4),\n",
       " ('Mumbai', 'India', 'Fall', 27.6, 346.0),\n",
       " ('Mumbai', 'India', 'Winter', 24.8, 5.9)]"
      ]
     },
     "execution_count": 15,
     "metadata": {},
     "output_type": "execute_result"
    }
   ],
   "source": [
    "#c)\n",
    "cur.execute(\"SELECT *  FROM Keywords where country='India'\")\n",
    "cur.fetchall()"
   ]
  },
  {
   "cell_type": "code",
   "execution_count": 16,
   "id": "d1f36918",
   "metadata": {},
   "outputs": [
    {
     "data": {
      "text/plain": [
       "[('Mumbai', 'India', 'Fall', 27.6, 346.0),\n",
       " ('London', 'United Kingdom', 'Fall', 10.4, 218.5),\n",
       " ('Cairo', 'Egypt', 'Fall', 22.2, 4.5)]"
      ]
     },
     "execution_count": 16,
     "metadata": {},
     "output_type": "execute_result"
    }
   ],
   "source": [
    "#d)\n",
    "cur.execute(\"SELECT *  FROM Keywords where season='Fall'\")\n",
    "cur.fetchall()"
   ]
  },
  {
   "cell_type": "code",
   "execution_count": 17,
   "id": "45444e4a",
   "metadata": {},
   "outputs": [
    {
     "data": {
      "text/plain": [
       "[('Mumbai', 'India', 'Fall'),\n",
       " ('London', 'United Kingdom', 'Winter'),\n",
       " ('London', 'United Kingdom', 'Fall')]"
      ]
     },
     "execution_count": 17,
     "metadata": {},
     "output_type": "execute_result"
    }
   ],
   "source": [
    "#e)\n",
    "cur.execute(\"SELECT city,country,season FROM Keywords WHERE rainfall BETWEEN 200 AND 400;\")\n",
    "cur.fetchall()"
   ]
  },
  {
   "cell_type": "code",
   "execution_count": 20,
   "id": "271aa512",
   "metadata": {},
   "outputs": [
    {
     "data": {
      "text/plain": [
       "[('Cairo', 'Egypt'), ('Mumbai', 'India')]"
      ]
     },
     "execution_count": 20,
     "metadata": {},
     "output_type": "execute_result"
    }
   ],
   "source": [
    "#f)\n",
    "cur.execute(\"SELECT city,country FROM Keywords WHERE temperature > 20 and season='Fall' Order by temperature ASC;\")\n",
    "cur.fetchall()"
   ]
  },
  {
   "cell_type": "code",
   "execution_count": 22,
   "id": "83e80aed",
   "metadata": {},
   "outputs": [
    {
     "data": {
      "text/plain": [
       "[(27.6,)]"
      ]
     },
     "execution_count": 22,
     "metadata": {},
     "output_type": "execute_result"
    }
   ],
   "source": [
    "#g)\n",
    "cur.execute(\"SELECT SUM(rainfall)FROM Keywords where city='Cairo'\")\n",
    "cur.fetchall()\n"
   ]
  },
  {
   "cell_type": "code",
   "execution_count": 32,
   "id": "d3f4db18",
   "metadata": {},
   "outputs": [
    {
     "data": {
      "text/plain": [
       "[(569.0, 'Fall'),\n",
       " (192.29999999999998, 'Spring'),\n",
       " (1706.5, 'Summer'),\n",
       " (230.1, 'Winter')]"
      ]
     },
     "execution_count": 32,
     "metadata": {},
     "output_type": "execute_result"
    }
   ],
   "source": [
    "#h)\n",
    "cur.execute(\"SELECT SUM(rainfall),season FROM Keywords GROUP BY Season\")\n",
    "cur.fetchall()\n",
    "\n"
   ]
  },
  {
   "cell_type": "markdown",
   "id": "c50c1939",
   "metadata": {},
   "source": [
    "# Question 9 "
   ]
  },
  {
   "cell_type": "markdown",
   "id": "2c408ca1",
   "metadata": {},
   "source": [
    "Question 9\n",
    ". Suppose list words is defined as follows:\n",
    "> words = ['The', 'quick', 'brown', 'fox', 'jumps', 'over',\n",
    "'the', 'lazy', 'dog']\n",
    "\n",
    "Write list comprehension expressions that use list words and generate the following\n",
    "lists:\n",
    "\n",
    "a) ['THE', 'QUICK', 'BROWN', 'FOX', 'JUMPS', 'OVER', 'THE',\n",
    "'LAZY', 'DOG']\n",
    "\n",
    "b) ['the', 'quick', 'brown', 'fox', 'jumps', 'over', 'the',\n",
    "'lazy', 'dog']\n",
    "\n",
    "c) [3, 5, 5, 3, 5, 4, 3, 4, 3] (the list of lengths of words in list\n",
    "words).\n",
    "\n",
    "d) [['THE', 'the', 3], ['QUICK', 'quick', 5], ['BROWN',\n",
    "'brown', 5], ['FOX', 'fox', 3], ['JUMPS', 'jumps', 5],\n",
    "['OVER', 'over', 4], ['THE', 'the', 3], ['LAZY', 'lazy',\n",
    "4], ['DOG', 'dog', 3]] (the list containing a list for every word of list\n",
    "words, where each list contains the word in uppercase and lowercase and the\n",
    "length of the word.)\n",
    "\n",
    "e) ['The', 'quick', 'brown', 'fox', 'jumps', 'over', 'the',\n",
    "'lazy', 'dog'] (the list of words in list words containing 4 or more\n",
    "characters.)"
   ]
  },
  {
   "cell_type": "code",
   "execution_count": 25,
   "id": "40ddda30",
   "metadata": {},
   "outputs": [
    {
     "data": {
      "text/plain": [
       "['THE', 'QUICK', 'BROWN', 'FOX', 'JUMPS', 'OVER', 'THE', 'LAZY', 'DOG']"
      ]
     },
     "execution_count": 25,
     "metadata": {},
     "output_type": "execute_result"
    }
   ],
   "source": [
    "#a)\n",
    "words = ['The', 'quick', 'brown', 'fox', 'jumps', 'over', 'the', 'lazy', 'dog']\n",
    "wordsupper = [word.upper() for word in words]\n",
    "wordsupper"
   ]
  },
  {
   "cell_type": "code",
   "execution_count": 26,
   "id": "a8d2fcbb",
   "metadata": {},
   "outputs": [
    {
     "data": {
      "text/plain": [
       "['the', 'quick', 'brown', 'fox', 'jumps', 'over', 'the', 'lazy', 'dog']"
      ]
     },
     "execution_count": 26,
     "metadata": {},
     "output_type": "execute_result"
    }
   ],
   "source": [
    "#b)\n",
    "wordslower = [word.lower() for word in words]\n",
    "wordslower"
   ]
  },
  {
   "cell_type": "code",
   "execution_count": 27,
   "id": "af73856e",
   "metadata": {},
   "outputs": [
    {
     "data": {
      "text/plain": [
       "[3, 5, 5, 3, 5, 4, 3, 4, 3]"
      ]
     },
     "execution_count": 27,
     "metadata": {},
     "output_type": "execute_result"
    }
   ],
   "source": [
    "#c)\n",
    "wordslen = [len(word) for word in words]\n",
    "wordslen"
   ]
  },
  {
   "cell_type": "code",
   "execution_count": 42,
   "id": "a609dade",
   "metadata": {},
   "outputs": [
    {
     "data": {
      "text/plain": [
       "['quick', 'brown', 'jumps', 'over', 'lazy']"
      ]
     },
     "execution_count": 42,
     "metadata": {},
     "output_type": "execute_result"
    }
   ],
   "source": [
    "#e)\n",
    "wordschar=[word for word in words if len(word)>=4]\n",
    "wordschar"
   ]
  },
  {
   "cell_type": "code",
   "execution_count": null,
   "id": "15e4b8d1",
   "metadata": {},
   "outputs": [],
   "source": []
  }
 ],
 "metadata": {
  "kernelspec": {
   "display_name": "Python 3 (ipykernel)",
   "language": "python",
   "name": "python3"
  },
  "language_info": {
   "codemirror_mode": {
    "name": "ipython",
    "version": 3
   },
   "file_extension": ".py",
   "mimetype": "text/x-python",
   "name": "python",
   "nbconvert_exporter": "python",
   "pygments_lexer": "ipython3",
   "version": "3.9.7"
  }
 },
 "nbformat": 4,
 "nbformat_minor": 5
}
